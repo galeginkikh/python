{
 "cells": [
  {
   "cell_type": "markdown",
   "metadata": {},
   "source": [
    "# Лекция 4"
   ]
  },
  {
   "cell_type": "code",
   "execution_count": 4,
   "metadata": {},
   "outputs": [],
   "source": [
    "import pandas as pd \n",
    "import os # операционная система, работа с файлами"
   ]
  },
  {
   "cell_type": "code",
   "execution_count": 16,
   "metadata": {},
   "outputs": [],
   "source": [
    "#for i in folder_data:\n",
    "#    if not i.startswith('.'):\n",
    "#       print(i)"
   ]
  },
  {
   "cell_type": "code",
   "execution_count": 29,
   "metadata": {},
   "outputs": [
    {
     "name": "stdout",
     "output_type": "stream",
     "text": [
      "3\n",
      "4\n"
     ]
    }
   ],
   "source": [
    "x = ['1', '2', 'start', '3', '4', 'end', '5', '6']\n",
    "scanning = False\n",
    "for i in x:\n",
    "   \n",
    "   if i == 'end':\n",
    "      scanning = False\n",
    "      continue\n",
    "   \n",
    "   if scanning:\n",
    "      print(i)\n",
    "\n",
    "   if i == 'start':\n",
    "      scanning = True\n",
    "      continue"
   ]
  },
  {
   "cell_type": "code",
   "execution_count": 15,
   "metadata": {},
   "outputs": [
    {
     "data": {
      "text/plain": [
       "['Python list methods.ipynb', 'README.md', 'Лекция 2', 'Лекция 3']"
      ]
     },
     "execution_count": 15,
     "metadata": {},
     "output_type": "execute_result"
    }
   ],
   "source": [
    "[i for i in folder_data if not i.startswith('.')]"
   ]
  },
  {
   "cell_type": "code",
   "execution_count": null,
   "metadata": {},
   "outputs": [],
   "source": [
    "p = ('...')\n",
    "all_data = open(p).readlines()\n",
    "scanning = False\n",
    "for i in open(p).readlines():\n",
    "     if i.startswith('------------'):\n",
    "      scanning = False\n",
    "      continue\n",
    "     \n",
    "     if scanning:\n",
    "      if 'Meal#;' in i:\n",
    "        col_name = i\n",
    "        continue\n",
    "     all_data.append((value.strip() for value in i.split(';')))\n",
    "\n",
    "     if i == '--- Non-deleted saved meals -------------------':\n",
    "       scanning = True\n",
    "       continue"
   ]
  },
  {
   "cell_type": "code",
   "execution_count": null,
   "metadata": {},
   "outputs": [],
   "source": []
  }
 ],
 "metadata": {
  "kernelspec": {
   "display_name": "Python 3",
   "language": "python",
   "name": "python3"
  },
  "language_info": {
   "codemirror_mode": {
    "name": "ipython",
    "version": 3
   },
   "file_extension": ".py",
   "mimetype": "text/x-python",
   "name": "python",
   "nbconvert_exporter": "python",
   "pygments_lexer": "ipython3",
   "version": "3.12.0"
  }
 },
 "nbformat": 4,
 "nbformat_minor": 2
}
