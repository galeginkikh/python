{
 "cells": [
  {
   "cell_type": "markdown",
   "metadata": {},
   "source": [
    "# Pandas"
   ]
  },
  {
   "cell_type": "code",
   "execution_count": 4,
   "metadata": {},
   "outputs": [],
   "source": [
    "import pandas as pd # Подключение библиотеки для работы с БД\n",
    "from datetime import datetime"
   ]
  },
  {
   "cell_type": "code",
   "execution_count": null,
   "metadata": {},
   "outputs": [],
   "source": [
    "df = pd.read_csv('') # Считывание информации из файла и запись в переменную"
   ]
  },
  {
   "cell_type": "code",
   "execution_count": null,
   "metadata": {},
   "outputs": [],
   "source": [
    "df.head() # Первые 5 элементов\n",
    "df.tail() # Последнии 5 элементов\n",
    "df.shape # Количество строк и колонок (с, к)\n",
    "df.dtypes # Типы двнных в колонках\n",
    "# и так далее https://pandas.pydata.org/pandas-docs/stable/reference/frame.html"
   ]
  },
  {
   "cell_type": "code",
   "execution_count": null,
   "metadata": {},
   "outputs": [],
   "source": [
    "df = df.rename(columns={'Номер' : 'number', 'Статус' : 'status'}) # Переименование колонок"
   ]
  },
  {
   "cell_type": "code",
   "execution_count": null,
   "metadata": {},
   "outputs": [],
   "source": [
    "df['status'] # Вывод определенной колонки\n",
    "df.status "
   ]
  },
  {
   "cell_type": "code",
   "execution_count": null,
   "metadata": {},
   "outputs": [],
   "source": [
    "df .groupby('tittle', as_index=False) \\\n",
    "    .aggregate({'money':'sum'}) \\\n",
    "    .sort_values('money') \n",
    "# Вывод прибыли по каждому курсу по возрастанию"
   ]
  },
  {
   "cell_type": "code",
   "execution_count": null,
   "metadata": {},
   "outputs": [],
   "source": [
    "money_by_city = df .groupby(['tittle', 'city'], as_index=False) \\\n",
    "    .aggregate({'money':'sum'}) \\\n",
    "    .sort_values('money') \n",
    "# Вывод прибыли по каждому курсу и городу по возрастанию"
   ]
  },
  {
   "cell_type": "code",
   "execution_count": null,
   "metadata": {},
   "outputs": [],
   "source": [
    "money_by_city.to_csv('money_by_city', index=False)"
   ]
  },
  {
   "cell_type": "code",
   "execution_count": null,
   "metadata": {},
   "outputs": [],
   "source": [
    "money_title = df \\\n",
    "    .query(\"status == 'Завершен'\") \\\n",
    "    .groupby('tittle', as_index=False) \\\n",
    "    .aggregate({'money':'sum', 'number': 'count'}) \\\n",
    "    .sort_values('money') \\\n",
    "    .rename(columns={'number': 'success_orders'})\n",
    "# Вывод прибыли по каждому курсу по возрастанию"
   ]
  },
  {
   "cell_type": "code",
   "execution_count": 9,
   "metadata": {},
   "outputs": [
    {
     "data": {
      "text/plain": [
       "'money_title_2024-03-09.csv'"
      ]
     },
     "execution_count": 9,
     "metadata": {},
     "output_type": "execute_result"
    }
   ],
   "source": [
    "today_day = datetime.today().strftime('%Y-%m-%d')\n",
    "file_name = ('money_title_{}.csv')\n",
    "file_name.format(today_day) \n",
    "# Активизация работы"
   ]
  }
 ],
 "metadata": {
  "kernelspec": {
   "display_name": "Python 3",
   "language": "python",
   "name": "python3"
  },
  "language_info": {
   "codemirror_mode": {
    "name": "ipython",
    "version": 3
   },
   "file_extension": ".py",
   "mimetype": "text/x-python",
   "name": "python",
   "nbconvert_exporter": "python",
   "pygments_lexer": "ipython3",
   "version": "3.12.0"
  }
 },
 "nbformat": 4,
 "nbformat_minor": 2
}
